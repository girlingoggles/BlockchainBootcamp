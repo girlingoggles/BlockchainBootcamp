{
 "cells": [
  {
   "cell_type": "code",
   "execution_count": 1,
   "metadata": {},
   "outputs": [],
   "source": [
    "#Most of the blockchain-creation code was from \n",
    "# https://dzone.com/articles/how-to-create-your-own-cryptocurrency-blockchain-i \n",
    "#and edited to fit my idea, it is not a real and functional blockchain as there is no proof-of-work algorithm. \n",
    "#The code that isn't the Block/BlockChain classes is dominantly my own work. "
   ]
  },
  {
   "cell_type": "code",
   "execution_count": 44,
   "metadata": {},
   "outputs": [],
   "source": [
    "#RUN THIS FIRST, ONCE\n",
    "\n",
    "import hashlib\n",
    "import time\n",
    "import pandas as pd\n",
    "\n",
    "class Block(object):\n",
    "\n",
    "    def __init__(self, index, proof_number, previous_hash, data, timestamp=None):\n",
    "        self.index = index\n",
    "        self.proof_number = proof_number\n",
    "        self.previous_hash = previous_hash\n",
    "        self.data = data\n",
    "        self.timestamp = timestamp or time.time()\n",
    "\n",
    "    @property\n",
    "    def compute_hash(self):\n",
    "        string_block = \"{}{}{}{}{}\".format(self.index, self.proof_number, self.previous_hash, self.data, self.timestamp)\n",
    "        return hashlib.sha256(string_block.encode()).hexdigest()\n",
    "\n",
    "    def __repr__(self):\n",
    "        return \"{} - {} - {} - {} - {}\".format(self.index, self.proof_number, self.previous_hash, self.data, self.timestamp)\n",
    "\n",
    "class BlockChain(object):\n",
    "\n",
    "    def __init__(self):\n",
    "        self.chain = []\n",
    "        self.current_data = []\n",
    "        self.nodes = set()\n",
    "        self.build_genesis()\n",
    "\n",
    "    def build_genesis(self):\n",
    "        self.build_block(proof_number=0, previous_hash=0)\n",
    "\n",
    "    def build_block(self, proof_number, previous_hash):\n",
    "        block = Block(\n",
    "            index=len(self.chain),\n",
    "            proof_number=proof_number,\n",
    "            previous_hash=previous_hash,\n",
    "            data=self.current_data\n",
    "        )\n",
    "\n",
    "        self.current_data = []\n",
    "        self.chain.append(block)\n",
    "        return block\n",
    "\n",
    "    \n",
    "    @staticmethod\n",
    "    def confirm_validity(block, previous_block):\n",
    "\n",
    "        if previous_block.index + 1 != block.index:\n",
    "            return False\n",
    "\n",
    "        elif previous_block.compute_hash != block.previous_hash:\n",
    "            return False\n",
    "\n",
    "        elif block.timestamp != previous_block.timestamp:\n",
    "            return False\n",
    "\n",
    "        return True\n",
    "\n",
    "    def get_data(self, data, sender, receiver, amount, previous_hash, block):\n",
    "        self.current_data.append({\n",
    "            'data': data,\n",
    "            'sender': sender,\n",
    "            'receiver': receiver,\n",
    "            'amount': amount,\n",
    "            'previous_hash' : previous_hash,\n",
    "            'block' : block\n",
    "        })\n",
    "        return True        \n",
    "    \n",
    "    \n",
    "    @staticmethod\n",
    "    def proof_of_work(last_proof):\n",
    "        pass\n",
    "\n",
    "    @property\n",
    "    def latest_block(self):\n",
    "        return self.chain[-1]\n",
    "\n",
    "    def chain_validity(self):\n",
    "        pass        \n",
    "\n",
    "    def block_mining(self, details_miner):       \n",
    "        self.get_data(\n",
    "            data={},\n",
    "            sender=\"0\", #it implies that this node has created a new block\n",
    "            receiver=details_miner,\n",
    "            amount=1, #creating a new block (or identifying the proof number) is awared with 1\n",
    "            previous_hash=self.latest_block.compute_hash,\n",
    "            block=self.latest_block\n",
    "        )\n",
    "        last_block = self.latest_block\n",
    "        last_proof_number = last_block.proof_number\n",
    "        proof_number = self.proof_of_work(last_proof_number)\n",
    "        last_hash = last_block.compute_hash\n",
    "        block = self.build_block(proof_number, last_hash)\n",
    "        return vars(block)  \n",
    "\n",
    "    def create_node(self, address):\n",
    "        self.nodes.add(address)\n",
    "        return True\n",
    "\n",
    "    @staticmethod\n",
    "    def get_block_object(block_data):        \n",
    "        return Block(\n",
    "            block_data['index'],\n",
    "            block_data['proof_number'],\n",
    "            block_data['previous_hash'],\n",
    "            block_data['data'],\n",
    "            timestamp=block_data['timestamp']\n",
    "        )\n",
    "\n"
   ]
  },
  {
   "cell_type": "code",
   "execution_count": 45,
   "metadata": {},
   "outputs": [],
   "source": [
    "#RUN THIS ONCE\n",
    "\n",
    "blockchain = BlockChain()\n",
    "\n",
    "last_block = blockchain.latest_block\n",
    "\n",
    "last_proof_number = last_block.proof_number\n",
    "\n",
    "proof_number = blockchain.proof_of_work(last_proof_number)\n",
    "\n"
   ]
  },
  {
   "cell_type": "code",
   "execution_count": 79,
   "metadata": {
    "scrolled": true
   },
   "outputs": [
    {
     "name": "stdout",
     "output_type": "stream",
     "text": [
      "Filename, case sensitive: class2012.csv\n",
      "      id            last      first   year   month  degree      major\n",
      "0  36456   Cucumberpatch   Bunnyboy   2012       7     Bsc     acting\n",
      "1  98765            Wash      Hoban   2012      12     PhD      pilot\n",
      "2  56565           Obama     Barack   2012      12     PhD   politics\n"
     ]
    }
   ],
   "source": [
    "#RUN THIS MULTIPLE TIMES WITH DIFFERENT FILENAMES TO SIMULATE CHANGING DATA\n",
    "\n",
    "import pandas as pd\n",
    "\n",
    "file = input(\"Filename, case sensitive: \")\n",
    "students = pd.read_csv (file)\n",
    "print(students)\n",
    "students=pd.DataFrame(students)"
   ]
  },
  {
   "cell_type": "code",
   "execution_count": 80,
   "metadata": {},
   "outputs": [
    {
     "name": "stdout",
     "output_type": "stream",
     "text": [
      "STARTING\n",
      "[0 - 0 - 0 - [] - 1608600481.1907825, 1 - None - 0 - [] - 1608600487.5576644, 2 - None - 0b0384ddea887282a95bca060e9cc4c1110971d1097a7a378b690a13af70677a - [{'data':       id            last      first   year   month  degree      major\n",
      "0  36456   Cucumberpatch   Bunnyboy   2012       7     Bsc     acting\n",
      "1  98765            Wash      Hoban   2012      12     PhD      pilot\n",
      "2  56565           Obama     Barack   2012      12     PhD   politics, 'sender': '0', 'receiver': 'Blockchain Bootcamp', 'amount': 1, 'previous_hash': '58245104c3a6995106a4ecd5422ff4757378e5fee194d2719cfad445de524996', 'block': 1 - None - 0 - [] - 1608600487.5576644}, {'data': {}, 'sender': '0', 'receiver': 'Blockchain Bootcamp', 'amount': 1, 'previous_hash': '0b0384ddea887282a95bca060e9cc4c1110971d1097a7a378b690a13af70677a', 'block': 1 - None - 0 - [] - 1608600487.5576644}] - 1608600489.8307514, 3 - None - 0 - [] - 1608600544.6326654, 4 - None - 0 - [{'data':       id   last    first   year   month  degree     major\n",
      "0  66666   Name   Holder   2019       7     Bsc   Physics\n",
      "1  98989   Test   Person   2019       6     PhD   Physics, 'sender': '0', 'receiver': 'Blockchain Bootcamp', 'amount': 1, 'previous_hash': '58245104c3a6995106a4ecd5422ff4757378e5fee194d2719cfad445de524996', 'block': 3 - None - 0 - [] - 1608600544.6326654}] - 1608600561.869287, 5 - None - 608eb0b912905dd32ff55fd4f9838470651a7dc5118c06e50cde53ae727b1ee7 - [{'data':       id      last            first   year   month  degree            major\n",
      "0  12345      Abel           Tasman   2020      12     Bsc        astronomy\n",
      "1  54321      Cook          Captain   2020      12     Bsc          weather\n",
      "2  10001   Hillary       Sir Edmund   2020       7     PhD   mountaineering\n",
      "3  10000     Putin         Vladimir   2020      12     PhD             math\n",
      "4  10101    Sherpa   Tenzing Norgay   2020       7     PhD   mountaineering\n",
      "5  77777   Someone             Here   2020      10     Bsc          cooking, 'sender': '0', 'receiver': 'Blockchain Bootcamp', 'amount': 1, 'previous_hash': '58245104c3a6995106a4ecd5422ff4757378e5fee194d2719cfad445de524996', 'block': 4 - None - 0 - [{'data':       id   last    first   year   month  degree     major\n",
      "0  66666   Name   Holder   2019       7     Bsc   Physics\n",
      "1  98989   Test   Person   2019       6     PhD   Physics, 'sender': '0', 'receiver': 'Blockchain Bootcamp', 'amount': 1, 'previous_hash': '58245104c3a6995106a4ecd5422ff4757378e5fee194d2719cfad445de524996', 'block': 3 - None - 0 - [] - 1608600544.6326654}] - 1608600561.869287}, {'data': {}, 'sender': '0', 'receiver': 'Blockchain Bootcamp', 'amount': 1, 'previous_hash': '608eb0b912905dd32ff55fd4f9838470651a7dc5118c06e50cde53ae727b1ee7', 'block': 4 - None - 0 - [{'data':       id   last    first   year   month  degree     major\n",
      "0  66666   Name   Holder   2019       7     Bsc   Physics\n",
      "1  98989   Test   Person   2019       6     PhD   Physics, 'sender': '0', 'receiver': 'Blockchain Bootcamp', 'amount': 1, 'previous_hash': '58245104c3a6995106a4ecd5422ff4757378e5fee194d2719cfad445de524996', 'block': 3 - None - 0 - [] - 1608600544.6326654}] - 1608600561.869287}] - 1608600564.39371, 6 - None - baa4ba4ba226eb710a58fe9aa58b030f0c71fa84564fe3e8fe2b8ceab5b01382 - [{'data': {}, 'sender': '0', 'receiver': 'Blockchain Bootcamp', 'amount': 1, 'previous_hash': 'baa4ba4ba226eb710a58fe9aa58b030f0c71fa84564fe3e8fe2b8ceab5b01382', 'block': 5 - None - 608eb0b912905dd32ff55fd4f9838470651a7dc5118c06e50cde53ae727b1ee7 - [{'data':       id      last            first   year   month  degree            major\n",
      "0  12345      Abel           Tasman   2020      12     Bsc        astronomy\n",
      "1  54321      Cook          Captain   2020      12     Bsc          weather\n",
      "2  10001   Hillary       Sir Edmund   2020       7     PhD   mountaineering\n",
      "3  10000     Putin         Vladimir   2020      12     PhD             math\n",
      "4  10101    Sherpa   Tenzing Norgay   2020       7     PhD   mountaineering\n",
      "5  77777   Someone             Here   2020      10     Bsc          cooking, 'sender': '0', 'receiver': 'Blockchain Bootcamp', 'amount': 1, 'previous_hash': '58245104c3a6995106a4ecd5422ff4757378e5fee194d2719cfad445de524996', 'block': 4 - None - 0 - [{'data':       id   last    first   year   month  degree     major\n",
      "0  66666   Name   Holder   2019       7     Bsc   Physics\n",
      "1  98989   Test   Person   2019       6     PhD   Physics, 'sender': '0', 'receiver': 'Blockchain Bootcamp', 'amount': 1, 'previous_hash': '58245104c3a6995106a4ecd5422ff4757378e5fee194d2719cfad445de524996', 'block': 3 - None - 0 - [] - 1608600544.6326654}] - 1608600561.869287}, {'data': {}, 'sender': '0', 'receiver': 'Blockchain Bootcamp', 'amount': 1, 'previous_hash': '608eb0b912905dd32ff55fd4f9838470651a7dc5118c06e50cde53ae727b1ee7', 'block': 4 - None - 0 - [{'data':       id   last    first   year   month  degree     major\n",
      "0  66666   Name   Holder   2019       7     Bsc   Physics\n",
      "1  98989   Test   Person   2019       6     PhD   Physics, 'sender': '0', 'receiver': 'Blockchain Bootcamp', 'amount': 1, 'previous_hash': '58245104c3a6995106a4ecd5422ff4757378e5fee194d2719cfad445de524996', 'block': 3 - None - 0 - [] - 1608600544.6326654}] - 1608600561.869287}] - 1608600564.39371}] - 1608600962.0037913]\n",
      "CREATION SUCCESSFUL\n",
      "[0 - 0 - 0 - [] - 1608600481.1907825, 1 - None - 0 - [] - 1608600487.5576644, 2 - None - 0b0384ddea887282a95bca060e9cc4c1110971d1097a7a378b690a13af70677a - [{'data':       id            last      first   year   month  degree      major\n",
      "0  36456   Cucumberpatch   Bunnyboy   2012       7     Bsc     acting\n",
      "1  98765            Wash      Hoban   2012      12     PhD      pilot\n",
      "2  56565           Obama     Barack   2012      12     PhD   politics, 'sender': '0', 'receiver': 'Blockchain Bootcamp', 'amount': 1, 'previous_hash': '58245104c3a6995106a4ecd5422ff4757378e5fee194d2719cfad445de524996', 'block': 1 - None - 0 - [] - 1608600487.5576644}, {'data': {}, 'sender': '0', 'receiver': 'Blockchain Bootcamp', 'amount': 1, 'previous_hash': '0b0384ddea887282a95bca060e9cc4c1110971d1097a7a378b690a13af70677a', 'block': 1 - None - 0 - [] - 1608600487.5576644}] - 1608600489.8307514, 3 - None - 0 - [] - 1608600544.6326654, 4 - None - 0 - [{'data':       id   last    first   year   month  degree     major\n",
      "0  66666   Name   Holder   2019       7     Bsc   Physics\n",
      "1  98989   Test   Person   2019       6     PhD   Physics, 'sender': '0', 'receiver': 'Blockchain Bootcamp', 'amount': 1, 'previous_hash': '58245104c3a6995106a4ecd5422ff4757378e5fee194d2719cfad445de524996', 'block': 3 - None - 0 - [] - 1608600544.6326654}] - 1608600561.869287, 5 - None - 608eb0b912905dd32ff55fd4f9838470651a7dc5118c06e50cde53ae727b1ee7 - [{'data':       id      last            first   year   month  degree            major\n",
      "0  12345      Abel           Tasman   2020      12     Bsc        astronomy\n",
      "1  54321      Cook          Captain   2020      12     Bsc          weather\n",
      "2  10001   Hillary       Sir Edmund   2020       7     PhD   mountaineering\n",
      "3  10000     Putin         Vladimir   2020      12     PhD             math\n",
      "4  10101    Sherpa   Tenzing Norgay   2020       7     PhD   mountaineering\n",
      "5  77777   Someone             Here   2020      10     Bsc          cooking, 'sender': '0', 'receiver': 'Blockchain Bootcamp', 'amount': 1, 'previous_hash': '58245104c3a6995106a4ecd5422ff4757378e5fee194d2719cfad445de524996', 'block': 4 - None - 0 - [{'data':       id   last    first   year   month  degree     major\n",
      "0  66666   Name   Holder   2019       7     Bsc   Physics\n",
      "1  98989   Test   Person   2019       6     PhD   Physics, 'sender': '0', 'receiver': 'Blockchain Bootcamp', 'amount': 1, 'previous_hash': '58245104c3a6995106a4ecd5422ff4757378e5fee194d2719cfad445de524996', 'block': 3 - None - 0 - [] - 1608600544.6326654}] - 1608600561.869287}, {'data': {}, 'sender': '0', 'receiver': 'Blockchain Bootcamp', 'amount': 1, 'previous_hash': '608eb0b912905dd32ff55fd4f9838470651a7dc5118c06e50cde53ae727b1ee7', 'block': 4 - None - 0 - [{'data':       id   last    first   year   month  degree     major\n",
      "0  66666   Name   Holder   2019       7     Bsc   Physics\n",
      "1  98989   Test   Person   2019       6     PhD   Physics, 'sender': '0', 'receiver': 'Blockchain Bootcamp', 'amount': 1, 'previous_hash': '58245104c3a6995106a4ecd5422ff4757378e5fee194d2719cfad445de524996', 'block': 3 - None - 0 - [] - 1608600544.6326654}] - 1608600561.869287}] - 1608600564.39371, 6 - None - baa4ba4ba226eb710a58fe9aa58b030f0c71fa84564fe3e8fe2b8ceab5b01382 - [{'data': {}, 'sender': '0', 'receiver': 'Blockchain Bootcamp', 'amount': 1, 'previous_hash': 'baa4ba4ba226eb710a58fe9aa58b030f0c71fa84564fe3e8fe2b8ceab5b01382', 'block': 5 - None - 608eb0b912905dd32ff55fd4f9838470651a7dc5118c06e50cde53ae727b1ee7 - [{'data':       id      last            first   year   month  degree            major\n",
      "0  12345      Abel           Tasman   2020      12     Bsc        astronomy\n",
      "1  54321      Cook          Captain   2020      12     Bsc          weather\n",
      "2  10001   Hillary       Sir Edmund   2020       7     PhD   mountaineering\n",
      "3  10000     Putin         Vladimir   2020      12     PhD             math\n",
      "4  10101    Sherpa   Tenzing Norgay   2020       7     PhD   mountaineering\n",
      "5  77777   Someone             Here   2020      10     Bsc          cooking, 'sender': '0', 'receiver': 'Blockchain Bootcamp', 'amount': 1, 'previous_hash': '58245104c3a6995106a4ecd5422ff4757378e5fee194d2719cfad445de524996', 'block': 4 - None - 0 - [{'data':       id   last    first   year   month  degree     major\n",
      "0  66666   Name   Holder   2019       7     Bsc   Physics\n",
      "1  98989   Test   Person   2019       6     PhD   Physics, 'sender': '0', 'receiver': 'Blockchain Bootcamp', 'amount': 1, 'previous_hash': '58245104c3a6995106a4ecd5422ff4757378e5fee194d2719cfad445de524996', 'block': 3 - None - 0 - [] - 1608600544.6326654}] - 1608600561.869287}, {'data': {}, 'sender': '0', 'receiver': 'Blockchain Bootcamp', 'amount': 1, 'previous_hash': '608eb0b912905dd32ff55fd4f9838470651a7dc5118c06e50cde53ae727b1ee7', 'block': 4 - None - 0 - [{'data':       id   last    first   year   month  degree     major\n",
      "0  66666   Name   Holder   2019       7     Bsc   Physics\n",
      "1  98989   Test   Person   2019       6     PhD   Physics, 'sender': '0', 'receiver': 'Blockchain Bootcamp', 'amount': 1, 'previous_hash': '58245104c3a6995106a4ecd5422ff4757378e5fee194d2719cfad445de524996', 'block': 3 - None - 0 - [] - 1608600544.6326654}] - 1608600561.869287}] - 1608600564.39371}] - 1608600962.0037913, 7 - None - 0 - [] - 1608601078.050118]\n"
     ]
    }
   ],
   "source": [
    "#RUN THIS MULTIPLE TIMES AFTER RUNNING THE ABOVE TO SIMULATE CHANGING DATA\n",
    "\n",
    "print(\"STARTING\")\n",
    "print(blockchain.chain)\n",
    "\n",
    "blockchain.get_data(\n",
    "    data = students,\n",
    "    sender=\"0\", \n",
    "    receiver=\"Blockchain Bootcamp\", \n",
    "    amount=1,\n",
    "    previous_hash = last_block.compute_hash,\n",
    "    block = blockchain.build_block(proof_number, last_proof_number))\n",
    "    \n",
    "print(\"CREATION SUCCESSFUL\")\n",
    "print(blockchain.chain)"
   ]
  },
  {
   "cell_type": "code",
   "execution_count": 81,
   "metadata": {},
   "outputs": [
    {
     "name": "stdout",
     "output_type": "stream",
     "text": [
      "[{'data':       id            last      first   year   month  degree      major\n",
      "0  36456   Cucumberpatch   Bunnyboy   2012       7     Bsc     acting\n",
      "1  98765            Wash      Hoban   2012      12     PhD      pilot\n",
      "2  56565           Obama     Barack   2012      12     PhD   politics, 'sender': '0', 'receiver': 'Blockchain Bootcamp', 'amount': 1, 'previous_hash': '58245104c3a6995106a4ecd5422ff4757378e5fee194d2719cfad445de524996', 'block': 7 - None - 0 - [] - 1608601078.050118}] \n",
      "\n",
      "\n",
      "7\n",
      "0 :\n",
      " 0 - 0 - 0 - [] - 1608600481.1907825\n",
      "1 :\n",
      " 1 - None - 0 - [] - 1608600487.5576644\n",
      "2 :\n",
      " 2 - None - 0b0384ddea887282a95bca060e9cc4c1110971d1097a7a378b690a13af70677a - [{'data':       id            last      first   year   month  degree      major\n",
      "0  36456   Cucumberpatch   Bunnyboy   2012       7     Bsc     acting\n",
      "1  98765            Wash      Hoban   2012      12     PhD      pilot\n",
      "2  56565           Obama     Barack   2012      12     PhD   politics, 'sender': '0', 'receiver': 'Blockchain Bootcamp', 'amount': 1, 'previous_hash': '58245104c3a6995106a4ecd5422ff4757378e5fee194d2719cfad445de524996', 'block': 1 - None - 0 - [] - 1608600487.5576644}, {'data': {}, 'sender': '0', 'receiver': 'Blockchain Bootcamp', 'amount': 1, 'previous_hash': '0b0384ddea887282a95bca060e9cc4c1110971d1097a7a378b690a13af70677a', 'block': 1 - None - 0 - [] - 1608600487.5576644}] - 1608600489.8307514\n",
      "3 :\n",
      " 3 - None - 0 - [] - 1608600544.6326654\n",
      "4 :\n",
      " 4 - None - 0 - [{'data':       id   last    first   year   month  degree     major\n",
      "0  66666   Name   Holder   2019       7     Bsc   Physics\n",
      "1  98989   Test   Person   2019       6     PhD   Physics, 'sender': '0', 'receiver': 'Blockchain Bootcamp', 'amount': 1, 'previous_hash': '58245104c3a6995106a4ecd5422ff4757378e5fee194d2719cfad445de524996', 'block': 3 - None - 0 - [] - 1608600544.6326654}] - 1608600561.869287\n",
      "5 :\n",
      " 5 - None - 608eb0b912905dd32ff55fd4f9838470651a7dc5118c06e50cde53ae727b1ee7 - [{'data':       id      last            first   year   month  degree            major\n",
      "0  12345      Abel           Tasman   2020      12     Bsc        astronomy\n",
      "1  54321      Cook          Captain   2020      12     Bsc          weather\n",
      "2  10001   Hillary       Sir Edmund   2020       7     PhD   mountaineering\n",
      "3  10000     Putin         Vladimir   2020      12     PhD             math\n",
      "4  10101    Sherpa   Tenzing Norgay   2020       7     PhD   mountaineering\n",
      "5  77777   Someone             Here   2020      10     Bsc          cooking, 'sender': '0', 'receiver': 'Blockchain Bootcamp', 'amount': 1, 'previous_hash': '58245104c3a6995106a4ecd5422ff4757378e5fee194d2719cfad445de524996', 'block': 4 - None - 0 - [{'data':       id   last    first   year   month  degree     major\n",
      "0  66666   Name   Holder   2019       7     Bsc   Physics\n",
      "1  98989   Test   Person   2019       6     PhD   Physics, 'sender': '0', 'receiver': 'Blockchain Bootcamp', 'amount': 1, 'previous_hash': '58245104c3a6995106a4ecd5422ff4757378e5fee194d2719cfad445de524996', 'block': 3 - None - 0 - [] - 1608600544.6326654}] - 1608600561.869287}, {'data': {}, 'sender': '0', 'receiver': 'Blockchain Bootcamp', 'amount': 1, 'previous_hash': '608eb0b912905dd32ff55fd4f9838470651a7dc5118c06e50cde53ae727b1ee7', 'block': 4 - None - 0 - [{'data':       id   last    first   year   month  degree     major\n",
      "0  66666   Name   Holder   2019       7     Bsc   Physics\n",
      "1  98989   Test   Person   2019       6     PhD   Physics, 'sender': '0', 'receiver': 'Blockchain Bootcamp', 'amount': 1, 'previous_hash': '58245104c3a6995106a4ecd5422ff4757378e5fee194d2719cfad445de524996', 'block': 3 - None - 0 - [] - 1608600544.6326654}] - 1608600561.869287}] - 1608600564.39371\n",
      "6 :\n",
      " 6 - None - baa4ba4ba226eb710a58fe9aa58b030f0c71fa84564fe3e8fe2b8ceab5b01382 - [{'data': {}, 'sender': '0', 'receiver': 'Blockchain Bootcamp', 'amount': 1, 'previous_hash': 'baa4ba4ba226eb710a58fe9aa58b030f0c71fa84564fe3e8fe2b8ceab5b01382', 'block': 5 - None - 608eb0b912905dd32ff55fd4f9838470651a7dc5118c06e50cde53ae727b1ee7 - [{'data':       id      last            first   year   month  degree            major\n",
      "0  12345      Abel           Tasman   2020      12     Bsc        astronomy\n",
      "1  54321      Cook          Captain   2020      12     Bsc          weather\n",
      "2  10001   Hillary       Sir Edmund   2020       7     PhD   mountaineering\n",
      "3  10000     Putin         Vladimir   2020      12     PhD             math\n",
      "4  10101    Sherpa   Tenzing Norgay   2020       7     PhD   mountaineering\n",
      "5  77777   Someone             Here   2020      10     Bsc          cooking, 'sender': '0', 'receiver': 'Blockchain Bootcamp', 'amount': 1, 'previous_hash': '58245104c3a6995106a4ecd5422ff4757378e5fee194d2719cfad445de524996', 'block': 4 - None - 0 - [{'data':       id   last    first   year   month  degree     major\n",
      "0  66666   Name   Holder   2019       7     Bsc   Physics\n",
      "1  98989   Test   Person   2019       6     PhD   Physics, 'sender': '0', 'receiver': 'Blockchain Bootcamp', 'amount': 1, 'previous_hash': '58245104c3a6995106a4ecd5422ff4757378e5fee194d2719cfad445de524996', 'block': 3 - None - 0 - [] - 1608600544.6326654}] - 1608600561.869287}, {'data': {}, 'sender': '0', 'receiver': 'Blockchain Bootcamp', 'amount': 1, 'previous_hash': '608eb0b912905dd32ff55fd4f9838470651a7dc5118c06e50cde53ae727b1ee7', 'block': 4 - None - 0 - [{'data':       id   last    first   year   month  degree     major\n",
      "0  66666   Name   Holder   2019       7     Bsc   Physics\n",
      "1  98989   Test   Person   2019       6     PhD   Physics, 'sender': '0', 'receiver': 'Blockchain Bootcamp', 'amount': 1, 'previous_hash': '58245104c3a6995106a4ecd5422ff4757378e5fee194d2719cfad445de524996', 'block': 3 - None - 0 - [] - 1608600544.6326654}] - 1608600561.869287}] - 1608600564.39371}] - 1608600962.0037913\n"
     ]
    }
   ],
   "source": [
    "#This is just a visual to show what's currently in the chain, that the hashes exist and it's working as intended\n",
    "#This isn't something the general users would get to see\n",
    "\n",
    "print(blockchain.current_data, \"\\n\\n\")\n",
    "print(len(blockchain.chain)-1)\n",
    "for x in range(len(blockchain.chain)-1):\n",
    "    print(x, \":\\n\", blockchain.chain[x])"
   ]
  },
  {
   "cell_type": "code",
   "execution_count": 93,
   "metadata": {},
   "outputs": [
    {
     "name": "stdout",
     "output_type": "stream",
     "text": [
      "Export successful!\n",
      "\n"
     ]
    }
   ],
   "source": [
    "#This gives you a csv record of all previous graduates\n",
    "\n",
    "\n",
    "output=pd.DataFrame()\n",
    "for x in range(len(blockchain.chain)-1):\n",
    "    if (len(blockchain.chain[x].data) >= 1):\n",
    "        output = output.append(blockchain.chain[x].data[0].get(\"data\"), ignore_index=True)\n",
    "output = output.append(blockchain.current_data[0].get(\"data\"), ignore_index=True)\n",
    "\n",
    "output\n",
    "output.dropna(how='all', inplace=True)\n",
    "output[\"id\"] = output.id.astype(int)\n",
    "with open('Graduates.txt', 'a') as f:\n",
    "    f.write(\n",
    "        output.to_string(header = True, index = True)\n",
    "    )\n",
    "print(\"Export successful!\\n\")"
   ]
  },
  {
   "cell_type": "code",
   "execution_count": 86,
   "metadata": {},
   "outputs": [
    {
     "name": "stdout",
     "output_type": "stream",
     "text": [
      "      id            last      first   year   month  degree      major\n",
      "0  36456   Cucumberpatch   Bunnyboy   2012       7     Bsc     acting\n",
      "1  98765            Wash      Hoban   2012      12     PhD      pilot\n",
      "2  56565           Obama     Barack   2012      12     PhD   politics\n",
      "      id   last    first   year   month  degree     major\n",
      "0  66666   Name   Holder   2019       7     Bsc   Physics\n",
      "1  98989   Test   Person   2019       6     PhD   Physics\n",
      "      id      last            first   year   month  degree            major\n",
      "0  12345      Abel           Tasman   2020      12     Bsc        astronomy\n",
      "1  54321      Cook          Captain   2020      12     Bsc          weather\n",
      "2  10001   Hillary       Sir Edmund   2020       7     PhD   mountaineering\n",
      "3  10000     Putin         Vladimir   2020      12     PhD             math\n",
      "4  10101    Sherpa   Tenzing Norgay   2020       7     PhD   mountaineering\n",
      "5  77777   Someone             Here   2020      10     Bsc          cooking\n",
      "{}\n",
      "\n",
      "\n",
      "Current Data Block:\n",
      "       id            last      first   year   month  degree      major\n",
      "0  36456   Cucumberpatch   Bunnyboy   2012       7     Bsc     acting\n",
      "1  98765            Wash      Hoban   2012      12     PhD      pilot\n",
      "2  56565           Obama     Barack   2012      12     PhD   politics\n"
     ]
    }
   ],
   "source": [
    "#This is what gives you the data in a useable way\n",
    "\n",
    "for x in range(len(blockchain.chain)-1):\n",
    "    #print(blockchain.chain[x].data)\n",
    "    if (len(blockchain.chain[x].data) >= 1):\n",
    "        print(blockchain.chain[x].data[0].get(\"data\"))\n",
    "        \n",
    "print(\"\\n\\nCurrent Data Block:\\n\", blockchain.current_data[0].get(\"data\"))"
   ]
  },
  {
   "cell_type": "code",
   "execution_count": 94,
   "metadata": {},
   "outputs": [
    {
     "name": "stdout",
     "output_type": "stream",
     "text": [
      "Student id number: 66666\n",
      "      id   last    first    year   month  degree     major\n",
      "3  66666   Name   Holder  2019.0     7.0     Bsc   Physics\n"
     ]
    }
   ],
   "source": [
    "#This is a rudimentary search function based on the student's unique ID number\n",
    "\n",
    "id_num = input(\"Student id number: \")\n",
    "print(output[output['id'].astype(str).str.contains(id_num)])"
   ]
  },
  {
   "cell_type": "code",
   "execution_count": 77,
   "metadata": {},
   "outputs": [
    {
     "data": {
      "text/plain": [
       "{'index': 6,\n",
       " 'proof_number': None,\n",
       " 'previous_hash': 'baa4ba4ba226eb710a58fe9aa58b030f0c71fa84564fe3e8fe2b8ceab5b01382',\n",
       " 'data': [{'data': {},\n",
       "   'sender': '0',\n",
       "   'receiver': 'Blockchain Bootcamp',\n",
       "   'amount': 1,\n",
       "   'previous_hash': 'baa4ba4ba226eb710a58fe9aa58b030f0c71fa84564fe3e8fe2b8ceab5b01382',\n",
       "   'block': 5 - None - 608eb0b912905dd32ff55fd4f9838470651a7dc5118c06e50cde53ae727b1ee7 - [{'data':       id      last            first   year   month  degree            major\n",
       "   0  12345      Abel           Tasman   2020      12     Bsc        astronomy\n",
       "   1  54321      Cook          Captain   2020      12     Bsc          weather\n",
       "   2  10001   Hillary       Sir Edmund   2020       7     PhD   mountaineering\n",
       "   3  10000     Putin         Vladimir   2020      12     PhD             math\n",
       "   4  10101    Sherpa   Tenzing Norgay   2020       7     PhD   mountaineering\n",
       "   5  77777   Someone             Here   2020      10     Bsc          cooking, 'sender': '0', 'receiver': 'Blockchain Bootcamp', 'amount': 1, 'previous_hash': '58245104c3a6995106a4ecd5422ff4757378e5fee194d2719cfad445de524996', 'block': 4 - None - 0 - [{'data':       id   last    first   year   month  degree     major\n",
       "   0  66666   Name   Holder   2019       7     Bsc   Physics\n",
       "   1  98989   Test   Person   2019       6     PhD   Physics, 'sender': '0', 'receiver': 'Blockchain Bootcamp', 'amount': 1, 'previous_hash': '58245104c3a6995106a4ecd5422ff4757378e5fee194d2719cfad445de524996', 'block': 3 - None - 0 - [] - 1608600544.6326654}] - 1608600561.869287}, {'data': {}, 'sender': '0', 'receiver': 'Blockchain Bootcamp', 'amount': 1, 'previous_hash': '608eb0b912905dd32ff55fd4f9838470651a7dc5118c06e50cde53ae727b1ee7', 'block': 4 - None - 0 - [{'data':       id   last    first   year   month  degree     major\n",
       "   0  66666   Name   Holder   2019       7     Bsc   Physics\n",
       "   1  98989   Test   Person   2019       6     PhD   Physics, 'sender': '0', 'receiver': 'Blockchain Bootcamp', 'amount': 1, 'previous_hash': '58245104c3a6995106a4ecd5422ff4757378e5fee194d2719cfad445de524996', 'block': 3 - None - 0 - [] - 1608600544.6326654}] - 1608600561.869287}] - 1608600564.39371}],\n",
       " 'timestamp': 1608600962.0037913}"
      ]
     },
     "execution_count": 77,
     "metadata": {},
     "output_type": "execute_result"
    }
   ],
   "source": [
    "#Theretically works to mine the data, but without the proof-of-work it just kinda... gets the data. easily.\n",
    "blockchain.block_mining(\"Blockchain Bootcamp\")"
   ]
  },
  {
   "cell_type": "code",
   "execution_count": null,
   "metadata": {},
   "outputs": [],
   "source": []
  }
 ],
 "metadata": {
  "kernelspec": {
   "display_name": "Python 3",
   "language": "python",
   "name": "python3"
  },
  "language_info": {
   "codemirror_mode": {
    "name": "ipython",
    "version": 3
   },
   "file_extension": ".py",
   "mimetype": "text/x-python",
   "name": "python",
   "nbconvert_exporter": "python",
   "pygments_lexer": "ipython3",
   "version": "3.7.5"
  }
 },
 "nbformat": 4,
 "nbformat_minor": 2
}
